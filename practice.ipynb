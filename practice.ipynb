{
 "cells": [
  {
   "cell_type": "code",
   "execution_count": null,
   "metadata": {},
   "outputs": [],
   "source": [
    "import numpy as np\n",
    "import pandas as pd\n",
    "import dionysus\n",
    "import matplotlib.pyplot as plt\n",
    "import os"
   ]
  },
  {
   "cell_type": "code",
   "execution_count": null,
   "metadata": {},
   "outputs": [],
   "source": [
    "# global parameters\n",
    "threshold = 0.8\n",
    "p = 2"
   ]
  },
  {
   "cell_type": "code",
   "execution_count": null,
   "metadata": {},
   "outputs": [],
   "source": [
    "def compute_graph(data):\n",
    "    corr_matrix = data.corr()\n",
    "    graph = corr_matrix > threshold\n",
    "    return graph\n",
    "\n",
    "def compute_simplicial_complex(graph):\n",
    "    n = len(graph)\n",
    "    simplicial_complex = []\n",
    "    prev = []\n",
    "    nxt = []\n",
    "    simplices = set()\n",
    "    for i in range(n):\n",
    "        simplicial_complex.append(([i], 0))\n",
    "        prev.append([i])\n",
    "    for k in range(1, n + 1):\n",
    "        for i in range(n):\n",
    "            for s in prev:\n",
    "                if i in s:\n",
    "                    continue\n",
    "                flag = 1\n",
    "                for elem in s:\n",
    "                    if not graph[i][elem]:\n",
    "                        flag = 0\n",
    "                        break\n",
    "                if flag:\n",
    "                    new_simplex = tuple(s) + tuple([i])\n",
    "                    new_simplex = tuple(sorted(list(new_simplex)))\n",
    "                    if not new_simplex in simplices:\n",
    "                        simplices.add(new_simplex)\n",
    "                        nxt.append(new_simplex)\n",
    "                        simplicial_complex.append((list(new_simplex), k))\n",
    "        prev = nxt\n",
    "        nxt = []\n",
    "        simplices = set()\n",
    "    return simplicial_complex\n",
    "\n",
    "def compute_persistence_diag(simplicial_complex):\n",
    "    f = dionysus.Filtration()\n",
    "    for vertices, time in simplicial_complex:\n",
    "        f.append(dionysus.Simplex(vertices, time))\n",
    "    m = dionysus.homology_persistence(f)\n",
    "    dgms = dionysus.init_diagrams(m, f)\n",
    "    return dgms\n",
    "\n",
    "def compute(data):\n",
    "    graph = compute_graph(data)\n",
    "    simplicial_complex = compute_simplicial_complex(graph)\n",
    "    diag = compute_persistence_diag(simplicial_complex)\n",
    "    return diag"
   ]
  },
  {
   "cell_type": "code",
   "execution_count": null,
   "metadata": {},
   "outputs": [],
   "source": [
    "diags = []\n",
    "directory = 'Training'\n",
    "for filename in os.listdir(directory):\n",
    "    if filename[:3] == 'sub':\n",
    "        print('./' + filename + '/timeseries_aal.csv')\n",
    "        data = pd.read_csv('./Training/' + filename + '/timeseries_aal.csv', header = None).T\n",
    "        diags.append(compute(data))"
   ]
  },
  {
   "cell_type": "code",
   "execution_count": null,
   "metadata": {},
   "outputs": [],
   "source": [
    "cnt = 0\n",
    "for dgms in diags:\n",
    "    f = open('./homology_data/' + str(cnt), 'w')\n",
    "    cnt += 1\n",
    "    for i, dgm in enumerate(dgms):\n",
    "        for pt in dgm:\n",
    "            print(i, pt.birth, pt.death, file = f)"
   ]
  },
  {
   "cell_type": "code",
   "execution_count": null,
   "metadata": {},
   "outputs": [],
   "source": [
    "m = len(diags)\n",
    "distances = np.zeros((m, m))\n",
    "for i in range(m):\n",
    "    print(i)\n",
    "    for j in range(m):\n",
    "        try:\n",
    "            distances[i][j] = dionysus.wasserstein_distance(diags[i][2], diags[j][2], p)\n",
    "        except Exception as e:\n",
    "            distances[i][j] = 1e9\n",
    "f = open('distances2', 'w')\n",
    "for row in distances:\n",
    "    for elem in row:\n",
    "        print(elem, end = ' ', file = f)\n",
    "    print(file = f)"
   ]
  },
  {
   "cell_type": "code",
   "execution_count": null,
   "metadata": {},
   "outputs": [],
   "source": [
    "m = len(diags)\n",
    "distances = np.zeros((m, m))\n",
    "for i in range(m):\n",
    "    print(i)\n",
    "    for j in range(m):\n",
    "        try:\n",
    "            distances[i][j] = dionysus.wasserstein_distance(diags[i][3], diags[j][3], p)\n",
    "        except Exception as e:\n",
    "            distances[i][j] = 1e9\n",
    "f = open('distances3', 'w')\n",
    "for row in distances:\n",
    "    for elem in row:\n",
    "        print(elem, end = ' ', file = f)\n",
    "    print(file = f)"
   ]
  },
  {
   "cell_type": "code",
   "execution_count": null,
   "metadata": {},
   "outputs": [],
   "source": [
    "f = open('distances2', 'r')\n",
    "X = []\n",
    "for line in f.readlines():\n",
    "    X.append(list(map(float, line.split())))"
   ]
  },
  {
   "cell_type": "code",
   "execution_count": null,
   "metadata": {},
   "outputs": [],
   "source": [
    "from sklearn.cluster import DBSCAN"
   ]
  },
  {
   "cell_type": "code",
   "execution_count": null,
   "metadata": {},
   "outputs": [],
   "source": [
    "for i in range(len(X)):\n",
    "    for j in range(len(X[i])):\n",
    "        if X[i][j] == float('inf'):\n",
    "            X[i][j] = 10000"
   ]
  },
  {
   "cell_type": "code",
   "execution_count": null,
   "metadata": {},
   "outputs": [],
   "source": [
    "model = DBSCAN(metric = 'precomputed', eps = 3, min_samples = 2)\n",
    "model.fit(X)"
   ]
  },
  {
   "cell_type": "code",
   "execution_count": null,
   "metadata": {},
   "outputs": [],
   "source": [
    "preds = model.labels_"
   ]
  },
  {
   "cell_type": "code",
   "execution_count": null,
   "metadata": {},
   "outputs": [],
   "source": [
    "y_true = []\n",
    "for filename in os.listdir('Training'):\n",
    "    if filename[:3] == 'sub':\n",
    "        data = pd.read_csv('./Training/' + filename + '/phenotypic.csv')\n",
    "        if data['DX'][0] == 'Control':\n",
    "            y_true.append(0)\n",
    "        else:\n",
    "            y_true.append(1)\n",
    "        "
   ]
  },
  {
   "cell_type": "code",
   "execution_count": null,
   "metadata": {},
   "outputs": [],
   "source": [
    "cluster = -1\n",
    "np.sum(np.array(y_true)[preds == cluster]) / len(np.array(y_true)[preds == cluster])"
   ]
  }
 ],
 "metadata": {
  "kernelspec": {
   "display_name": "Python 3",
   "language": "python",
   "name": "python3"
  },
  "language_info": {
   "codemirror_mode": {
    "name": "ipython",
    "version": 3
   },
   "file_extension": ".py",
   "mimetype": "text/x-python",
   "name": "python",
   "nbconvert_exporter": "python",
   "pygments_lexer": "ipython3",
   "version": "3.6.7"
  }
 },
 "nbformat": 4,
 "nbformat_minor": 2
}
